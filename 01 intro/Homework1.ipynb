{
 "cells": [
  {
   "cell_type": "markdown",
   "id": "8fd8f00b-7713-4a2f-9e21-c77ca3bea1f7",
   "metadata": {},
   "source": [
    "# Importing Libraries"
   ]
  },
  {
   "cell_type": "code",
   "execution_count": 1,
   "id": "d4072161-8b97-4917-b3f8-bbffc3bf81c3",
   "metadata": {},
   "outputs": [],
   "source": [
    "import pandas as pd"
   ]
  },
  {
   "cell_type": "code",
   "execution_count": 5,
   "id": "6184d678-5a68-4d2e-b315-83b52cef1ea4",
   "metadata": {},
   "outputs": [],
   "source": [
    "df = pd.read_csv('https://raw.githubusercontent.com/alexeygrigorev/datasets/master/car_fuel_efficiency.csv')"
   ]
  },
  {
   "cell_type": "markdown",
   "id": "bef347b9",
   "metadata": {},
   "source": [
    "## Question 1. Pandas version (1 point)"
   ]
  },
  {
   "cell_type": "code",
   "execution_count": 4,
   "id": "9962814d",
   "metadata": {},
   "outputs": [
    {
     "name": "stdout",
     "output_type": "stream",
     "text": [
      "2.3.1\n"
     ]
    }
   ],
   "source": [
    "print(pd.__version__)"
   ]
  },
  {
   "cell_type": "markdown",
   "id": "4ba500c4-37bb-415b-a263-cd309e693a11",
   "metadata": {},
   "source": [
    "## Question 2. Records count"
   ]
  },
  {
   "cell_type": "code",
   "execution_count": 6,
   "id": "dedd935a-201b-4674-aad0-a3fdeb43656b",
   "metadata": {},
   "outputs": [
    {
     "name": "stdout",
     "output_type": "stream",
     "text": [
      "9704\n"
     ]
    }
   ],
   "source": [
    "print(df.shape[0]) "
   ]
  },
  {
   "cell_type": "code",
   "execution_count": 9,
   "id": "f5d02470-93b5-42ec-af7f-22717e63d3f1",
   "metadata": {},
   "outputs": [
    {
     "name": "stdout",
     "output_type": "stream",
     "text": [
      "   engine_displacement  num_cylinders  horsepower  vehicle_weight  \\\n",
      "0                  170            3.0       159.0     3413.433759   \n",
      "1                  130            5.0        97.0     3149.664934   \n",
      "2                  170            NaN        78.0     3079.038997   \n",
      "3                  220            4.0         NaN     2542.392402   \n",
      "4                  210            1.0       140.0     3460.870990   \n",
      "\n",
      "   acceleration  model_year  origin fuel_type         drivetrain  num_doors  \\\n",
      "0          17.7        2003  Europe  Gasoline    All-wheel drive        0.0   \n",
      "1          17.8        2007     USA  Gasoline  Front-wheel drive        0.0   \n",
      "2          15.1        2018  Europe  Gasoline  Front-wheel drive        0.0   \n",
      "3          20.2        2009     USA    Diesel    All-wheel drive        2.0   \n",
      "4          14.4        2009  Europe  Gasoline    All-wheel drive        2.0   \n",
      "\n",
      "   fuel_efficiency_mpg  \n",
      "0            13.231729  \n",
      "1            13.688217  \n",
      "2            14.246341  \n",
      "3            16.912736  \n",
      "4            12.488369  \n"
     ]
    }
   ],
   "source": [
    "print(df.head())"
   ]
  },
  {
   "cell_type": "markdown",
   "id": "f858102a-b6a0-407b-b85c-300a7852ccc9",
   "metadata": {},
   "source": [
    "## Question 3. Fuel types"
   ]
  },
  {
   "cell_type": "code",
   "execution_count": 22,
   "id": "3bcda1b9-3b7f-411a-8892-c0e78c7a970f",
   "metadata": {},
   "outputs": [
    {
     "name": "stdout",
     "output_type": "stream",
     "text": [
      "['Gasoline' 'Diesel']\n"
     ]
    }
   ],
   "source": [
    "print(df['fuel_type'].unique())\n"
   ]
  },
  {
   "cell_type": "code",
   "execution_count": 13,
   "id": "ab1ea82a-bb77-4173-aa3b-521b54dc6311",
   "metadata": {},
   "outputs": [
    {
     "data": {
      "text/plain": [
       "fuel_type\n",
       "Gasoline    4898\n",
       "Diesel      4806\n",
       "Name: count, dtype: int64"
      ]
     },
     "execution_count": 13,
     "metadata": {},
     "output_type": "execute_result"
    }
   ],
   "source": [
    "df['fuel_type'].value_counts()\n"
   ]
  },
  {
   "cell_type": "markdown",
   "id": "5b51e2e8-64c6-49c1-ad19-f0ee48306ed6",
   "metadata": {},
   "source": [
    "## Question 4. Missing values "
   ]
  },
  {
   "cell_type": "code",
   "execution_count": 14,
   "id": "8fb5480e-46c9-4f65-b8d8-1e3ffb83efd5",
   "metadata": {},
   "outputs": [
    {
     "data": {
      "text/plain": [
       "engine_displacement      0\n",
       "num_cylinders          482\n",
       "horsepower             708\n",
       "vehicle_weight           0\n",
       "acceleration           930\n",
       "model_year               0\n",
       "origin                   0\n",
       "fuel_type                0\n",
       "drivetrain               0\n",
       "num_doors              502\n",
       "fuel_efficiency_mpg      0\n",
       "dtype: int64"
      ]
     },
     "execution_count": 14,
     "metadata": {},
     "output_type": "execute_result"
    }
   ],
   "source": [
    "df.isnull().sum()\n"
   ]
  },
  {
   "cell_type": "markdown",
   "id": "4098afd7-14d4-45d5-bfb9-8578e3bcf933",
   "metadata": {},
   "source": [
    "## Question 5. Max fuel efficiency"
   ]
  },
  {
   "cell_type": "code",
   "execution_count": 17,
   "id": "163e44d4-0929-4328-b825-e92895a0b558",
   "metadata": {},
   "outputs": [
    {
     "name": "stdout",
     "output_type": "stream",
     "text": [
      "25.96722204888372\n"
     ]
    }
   ],
   "source": [
    "print(df['fuel_efficiency_mpg'].max())\n"
   ]
  },
  {
   "cell_type": "markdown",
   "id": "44aa895c-bb72-4271-87f0-1bbdea2ccbc8",
   "metadata": {},
   "source": [
    "## Question 6. Median value of horsepower "
   ]
  },
  {
   "cell_type": "code",
   "execution_count": 34,
   "id": "2d7c4e62-ce27-4ae3-9e86-8a42aef340e2",
   "metadata": {},
   "outputs": [
    {
     "name": "stdout",
     "output_type": "stream",
     "text": [
      "Median horsepower before filling missing values: 149.0\n"
     ]
    }
   ],
   "source": [
    "median_before = df['horsepower'].median()\n",
    "print(\"Median horsepower before filling missing values:\", median_before)\n"
   ]
  },
  {
   "cell_type": "code",
   "execution_count": 35,
   "id": "705589e6-1174-4a8e-8e34-11272dd44029",
   "metadata": {},
   "outputs": [
    {
     "name": "stdout",
     "output_type": "stream",
     "text": [
      "Most frequent horsepower: 152.0\n"
     ]
    }
   ],
   "source": [
    "most_frequent_hp = df['horsepower'].mode()[0]\n",
    "print(\"Most frequent horsepower:\", most_frequent_hp)\n"
   ]
  },
  {
   "cell_type": "code",
   "execution_count": 36,
   "id": "7b71a630-6a66-42c2-8bbb-419afd5db8b0",
   "metadata": {},
   "outputs": [],
   "source": [
    "df['horsepower'] = df['horsepower'].fillna(most_frequent_hp)\n"
   ]
  },
  {
   "cell_type": "code",
   "execution_count": 37,
   "id": "c3d8b8fd-1e44-4abe-9b7d-e492e9e2a1d9",
   "metadata": {},
   "outputs": [
    {
     "name": "stdout",
     "output_type": "stream",
     "text": [
      "Median horsepower after filling missing values: 152.0\n"
     ]
    }
   ],
   "source": [
    "median_after = df['horsepower'].median()\n",
    "print(\"Median horsepower after filling missing values:\", median_after)\n"
   ]
  },
  {
   "cell_type": "code",
   "execution_count": null,
   "id": "725221dc-6bba-4683-90ff-1b7bf47d4d66",
   "metadata": {},
   "outputs": [],
   "source": []
  },
  {
   "cell_type": "markdown",
   "id": "55733ce3-0a03-43cc-840e-ba85fc83513e",
   "metadata": {},
   "source": [
    "## Question 7. Sum of weights "
   ]
  },
  {
   "cell_type": "code",
   "execution_count": 21,
   "id": "2c532bed-5d75-44fb-a2e7-c88738a1ef95",
   "metadata": {},
   "outputs": [
    {
     "name": "stdout",
     "output_type": "stream",
     "text": [
      "29124430.759692907\n"
     ]
    }
   ],
   "source": [
    "print(df['vehicle_weight'].sum())"
   ]
  },
  {
   "cell_type": "code",
   "execution_count": 38,
   "id": "c65b859d-4316-4a04-9b29-81bfe0746ffb",
   "metadata": {},
   "outputs": [
    {
     "name": "stdout",
     "output_type": "stream",
     "text": [
      "Sum of elements in w: 0.5187709081074016\n"
     ]
    }
   ],
   "source": [
    "import pandas as pd\n",
    "import numpy as np\n",
    "\n",
    "# Load dataset\n",
    "df = pd.read_csv('https://raw.githubusercontent.com/alexeygrigorev/datasets/master/car_fuel_efficiency.csv')\n",
    "\n",
    "# Step 1: Select all cars from Asia\n",
    "df_asia = df[df['origin'] == 'Asia']\n",
    "\n",
    "# Step 2: Select only vehicle_weight and model_year\n",
    "X_df = df_asia[['vehicle_weight', 'model_year']]\n",
    "\n",
    "# Step 3: Take the first 7 rows\n",
    "X_df = X_df.iloc[:7]\n",
    "\n",
    "# Step 4: Convert to NumPy array\n",
    "X = X_df.to_numpy()\n",
    "\n",
    "# Step 5: Compute XTX\n",
    "XTX = X.T @ X\n",
    "\n",
    "# Step 6: Invert XTX\n",
    "XTX_inv = np.linalg.inv(XTX)\n",
    "\n",
    "# Step 7: Create array y\n",
    "y = np.array([1100, 1300, 800, 900, 1000, 1100, 1200])\n",
    "\n",
    "# Step 8: Compute w\n",
    "w = XTX_inv @ X.T @ y\n",
    "\n",
    "# Step 9: Sum of all elements\n",
    "sum_w = w.sum()\n",
    "print(\"Sum of elements in w:\", sum_w)\n"
   ]
  },
  {
   "cell_type": "code",
   "execution_count": null,
   "id": "fe7e9df9-fabb-4f54-8a02-cc6a27b59afe",
   "metadata": {},
   "outputs": [],
   "source": []
  }
 ],
 "metadata": {
  "kernelspec": {
   "display_name": "Python 3 (ipykernel)",
   "language": "python",
   "name": "python3"
  },
  "language_info": {
   "codemirror_mode": {
    "name": "ipython",
    "version": 3
   },
   "file_extension": ".py",
   "mimetype": "text/x-python",
   "name": "python",
   "nbconvert_exporter": "python",
   "pygments_lexer": "ipython3",
   "version": "3.12.1"
  }
 },
 "nbformat": 4,
 "nbformat_minor": 5
}
