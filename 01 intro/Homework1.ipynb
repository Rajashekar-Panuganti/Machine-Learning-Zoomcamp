{
 "cells": [
  {
   "cell_type": "markdown",
   "id": "8fd8f00b-7713-4a2f-9e21-c77ca3bea1f7",
   "metadata": {},
   "source": [
    "# Importing Libraries"
   ]
  },
  {
   "cell_type": "code",
   "execution_count": 1,
   "id": "d4072161-8b97-4917-b3f8-bbffc3bf81c3",
   "metadata": {},
   "outputs": [],
   "source": [
    "import pandas as pd"
   ]
  },
  {
   "cell_type": "code",
   "execution_count": 5,
   "id": "6184d678-5a68-4d2e-b315-83b52cef1ea4",
   "metadata": {},
   "outputs": [],
   "source": [
    "df = pd.read_csv('https://raw.githubusercontent.com/alexeygrigorev/datasets/master/car_fuel_efficiency.csv')"
   ]
  },
  {
   "cell_type": "markdown",
   "id": "bef347b9",
   "metadata": {},
   "source": [
    "## Question 1. Pandas version (1 point)"
   ]
  },
  {
   "cell_type": "code",
   "execution_count": 4,
   "id": "9962814d",
   "metadata": {},
   "outputs": [
    {
     "name": "stdout",
     "output_type": "stream",
     "text": [
      "2.3.1\n"
     ]
    }
   ],
   "source": [
    "print(pd.__version__)"
   ]
  },
  {
   "cell_type": "markdown",
   "id": "4ba500c4-37bb-415b-a263-cd309e693a11",
   "metadata": {},
   "source": [
    "## Question 2. Records count"
   ]
  },
  {
   "cell_type": "code",
   "execution_count": 6,
   "id": "dedd935a-201b-4674-aad0-a3fdeb43656b",
   "metadata": {},
   "outputs": [
    {
     "name": "stdout",
     "output_type": "stream",
     "text": [
      "9704\n"
     ]
    }
   ],
   "source": [
    "print(df.shape[0]) "
   ]
  },
  {
   "cell_type": "code",
   "execution_count": 9,
   "id": "f5d02470-93b5-42ec-af7f-22717e63d3f1",
   "metadata": {},
   "outputs": [
    {
     "name": "stdout",
     "output_type": "stream",
     "text": [
      "   engine_displacement  num_cylinders  horsepower  vehicle_weight  \\\n",
      "0                  170            3.0       159.0     3413.433759   \n",
      "1                  130            5.0        97.0     3149.664934   \n",
      "2                  170            NaN        78.0     3079.038997   \n",
      "3                  220            4.0         NaN     2542.392402   \n",
      "4                  210            1.0       140.0     3460.870990   \n",
      "\n",
      "   acceleration  model_year  origin fuel_type         drivetrain  num_doors  \\\n",
      "0          17.7        2003  Europe  Gasoline    All-wheel drive        0.0   \n",
      "1          17.8        2007     USA  Gasoline  Front-wheel drive        0.0   \n",
      "2          15.1        2018  Europe  Gasoline  Front-wheel drive        0.0   \n",
      "3          20.2        2009     USA    Diesel    All-wheel drive        2.0   \n",
      "4          14.4        2009  Europe  Gasoline    All-wheel drive        2.0   \n",
      "\n",
      "   fuel_efficiency_mpg  \n",
      "0            13.231729  \n",
      "1            13.688217  \n",
      "2            14.246341  \n",
      "3            16.912736  \n",
      "4            12.488369  \n"
     ]
    }
   ],
   "source": [
    "print(df.head())"
   ]
  },
  {
   "cell_type": "markdown",
   "id": "f858102a-b6a0-407b-b85c-300a7852ccc9",
   "metadata": {},
   "source": [
    "## Question 3. Fuel types"
   ]
  },
  {
   "cell_type": "code",
   "execution_count": 11,
   "id": "3bcda1b9-3b7f-411a-8892-c0e78c7a970f",
   "metadata": {},
   "outputs": [
    {
     "data": {
      "text/plain": [
       "array(['Gasoline', 'Diesel'], dtype=object)"
      ]
     },
     "execution_count": 11,
     "metadata": {},
     "output_type": "execute_result"
    }
   ],
   "source": [
    "df['fuel_type'].unique()\n"
   ]
  },
  {
   "cell_type": "code",
   "execution_count": 13,
   "id": "ab1ea82a-bb77-4173-aa3b-521b54dc6311",
   "metadata": {},
   "outputs": [
    {
     "data": {
      "text/plain": [
       "fuel_type\n",
       "Gasoline    4898\n",
       "Diesel      4806\n",
       "Name: count, dtype: int64"
      ]
     },
     "execution_count": 13,
     "metadata": {},
     "output_type": "execute_result"
    }
   ],
   "source": [
    "df['fuel_type'].value_counts()\n"
   ]
  },
  {
   "cell_type": "markdown",
   "id": "5b51e2e8-64c6-49c1-ad19-f0ee48306ed6",
   "metadata": {},
   "source": [
    "## Question 4. Missing values "
   ]
  },
  {
   "cell_type": "code",
   "execution_count": 14,
   "id": "8fb5480e-46c9-4f65-b8d8-1e3ffb83efd5",
   "metadata": {},
   "outputs": [
    {
     "data": {
      "text/plain": [
       "engine_displacement      0\n",
       "num_cylinders          482\n",
       "horsepower             708\n",
       "vehicle_weight           0\n",
       "acceleration           930\n",
       "model_year               0\n",
       "origin                   0\n",
       "fuel_type                0\n",
       "drivetrain               0\n",
       "num_doors              502\n",
       "fuel_efficiency_mpg      0\n",
       "dtype: int64"
      ]
     },
     "execution_count": 14,
     "metadata": {},
     "output_type": "execute_result"
    }
   ],
   "source": [
    "df.isnull().sum()\n"
   ]
  },
  {
   "cell_type": "markdown",
   "id": "4098afd7-14d4-45d5-bfb9-8578e3bcf933",
   "metadata": {},
   "source": [
    "## Question 5. Max fuel efficiency"
   ]
  },
  {
   "cell_type": "code",
   "execution_count": 17,
   "id": "163e44d4-0929-4328-b825-e92895a0b558",
   "metadata": {},
   "outputs": [
    {
     "name": "stdout",
     "output_type": "stream",
     "text": [
      "25.96722204888372\n"
     ]
    }
   ],
   "source": [
    "print(df['fuel_efficiency_mpg'].max())\n"
   ]
  },
  {
   "cell_type": "markdown",
   "id": "44aa895c-bb72-4271-87f0-1bbdea2ccbc8",
   "metadata": {},
   "source": [
    "## Question 6. Median value of horsepower "
   ]
  },
  {
   "cell_type": "code",
   "execution_count": 19,
   "id": "f7858a7f-8e2e-4319-8554-0d69bd50fa33",
   "metadata": {},
   "outputs": [
    {
     "name": "stdout",
     "output_type": "stream",
     "text": [
      "149.0\n"
     ]
    }
   ],
   "source": [
    "print(df['horsepower'].median())"
   ]
  },
  {
   "cell_type": "markdown",
   "id": "55733ce3-0a03-43cc-840e-ba85fc83513e",
   "metadata": {},
   "source": [
    "## Question 7. Sum of weights "
   ]
  },
  {
   "cell_type": "code",
   "execution_count": 21,
   "id": "2c532bed-5d75-44fb-a2e7-c88738a1ef95",
   "metadata": {},
   "outputs": [
    {
     "name": "stdout",
     "output_type": "stream",
     "text": [
      "29124430.759692907\n"
     ]
    }
   ],
   "source": [
    "print(df['vehicle_weight'].sum())"
   ]
  },
  {
   "cell_type": "code",
   "execution_count": null,
   "id": "558f3db2-acf0-45e5-ba1e-7af390a80d06",
   "metadata": {},
   "outputs": [],
   "source": []
  },
  {
   "cell_type": "code",
   "execution_count": null,
   "id": "59432d4c-1bb2-46f8-8183-a429a85e24ce",
   "metadata": {},
   "outputs": [],
   "source": []
  }
 ],
 "metadata": {
  "kernelspec": {
   "display_name": "Python 3 (ipykernel)",
   "language": "python",
   "name": "python3"
  },
  "language_info": {
   "codemirror_mode": {
    "name": "ipython",
    "version": 3
   },
   "file_extension": ".py",
   "mimetype": "text/x-python",
   "name": "python",
   "nbconvert_exporter": "python",
   "pygments_lexer": "ipython3",
   "version": "3.12.1"
  }
 },
 "nbformat": 4,
 "nbformat_minor": 5
}
